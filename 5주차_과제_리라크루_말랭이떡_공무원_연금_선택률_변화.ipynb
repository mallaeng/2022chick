{
  "nbformat": 4,
  "nbformat_minor": 0,
  "metadata": {
    "colab": {
      "name": "5주차 과제 리라크루 말랭이떡 공무원 연금 선택률 변화.ipynb",
      "provenance": [],
      "authorship_tag": "ABX9TyN7Yr78eP4ztbA3CfePClev",
      "include_colab_link": true
    },
    "kernelspec": {
      "name": "python3",
      "display_name": "Python 3"
    },
    "language_info": {
      "name": "python"
    }
  },
  "cells": [
    {
      "cell_type": "markdown",
      "metadata": {
        "id": "view-in-github",
        "colab_type": "text"
      },
      "source": [
        "<a href=\"https://colab.research.google.com/github/mallaeng/2022chick/blob/main/5%EC%A3%BC%EC%B0%A8_%EA%B3%BC%EC%A0%9C_%EB%A6%AC%EB%9D%BC%ED%81%AC%EB%A3%A8_%EB%A7%90%EB%9E%AD%EC%9D%B4%EB%96%A1_%EA%B3%B5%EB%AC%B4%EC%9B%90_%EC%97%B0%EA%B8%88_%EC%84%A0%ED%83%9D%EB%A5%A0_%EB%B3%80%ED%99%94.ipynb\" target=\"_parent\"><img src=\"https://colab.research.google.com/assets/colab-badge.svg\" alt=\"Open In Colab\"/></a>"
      ]
    },
    {
      "cell_type": "markdown",
      "source": [
        "# 공무원 연금 데이터 분석\n",
        "\n",
        "공무원 연금의 연도별 일시금/연금 선택률을 조사하였습니다. \n"
      ],
      "metadata": {
        "id": "6Y4H50EorLMb"
      }
    },
    {
      "cell_type": "code",
      "execution_count": null,
      "metadata": {
        "id": "c0DQKF6MNkbp"
      },
      "outputs": [],
      "source": [
        "from google.colab import files\n",
        "files.upload()"
      ]
    },
    {
      "cell_type": "code",
      "source": [
        "ls"
      ],
      "metadata": {
        "colab": {
          "base_uri": "https://localhost:8080/"
        },
        "id": "yNFDcI578rV-",
        "outputId": "e8baa6df-3953-4adf-e340-f17db77a289f"
      },
      "execution_count": null,
      "outputs": [
        {
          "output_type": "stream",
          "name": "stdout",
          "text": [
            "money.csv  \u001b[0m\u001b[01;34msample_data\u001b[0m/\n"
          ]
        }
      ]
    },
    {
      "cell_type": "code",
      "source": [
        "!apt-get install fonts-nanum -qq > /dev/null\n",
        "!fc-cache -fv\n",
        "import matplotlib as mpl\n",
        "mpl.font_manager._rebuild()\n",
        "findfont = mpl.font_manager.fontManager.findfont\n",
        "mpl.font_manager.findfont = findfont\n",
        "mpl.backends.backend_agg.findfont = findfont"
      ],
      "metadata": {
        "id": "DPFnUmhi85wr"
      },
      "execution_count": null,
      "outputs": []
    },
    {
      "cell_type": "code",
      "source": [
        "import matplotlib.pyplot as plt\n",
        "plt.rc('font', family = 'NanumGothic')\n",
        "plt.rcParams['axes.unicode_minus'] = False\n",
        "plt.title('한글제목')\n",
        "plt.plot([-1,0,1])\n",
        "plt.show()"
      ],
      "metadata": {
        "id": "8v6mPcII9Z7H"
      },
      "execution_count": null,
      "outputs": []
    },
    {
      "cell_type": "markdown",
      "source": [
        "# 퇴직연금 연금 선택률\n",
        "일시불 / 연금 중 선택입니다.\n",
        "x축 값에 연도를 넣고 싶어서 append로 해보려고 했으나 어떻게 해도 오직 연도만 append가 안되어서 x축에 연도를 못 넣은 것이 아쉽습니다..\n"
      ],
      "metadata": {
        "id": "-KvwGQcRAHH6"
      }
    },
    {
      "cell_type": "code",
      "source": [
        "# 코드로 표현해보기\n",
        "\n",
        "import csv\n",
        "data1 = csv.reader(open('money.csv', encoding = 'cp949'))\n",
        "\n",
        "next(data1)\n",
        "\n",
        "choice = []\n",
        "for row in data1 :\n",
        "  if '연금선택률' in row[0] :\n",
        "    for i in range(2,40) : \n",
        "      choice.append(int(row[i]))\n",
        "    break\n",
        "\n",
        "\n",
        "\n",
        "\n",
        "import matplotlib.pyplot as plt\n",
        "plt.title('공무원연금 연금선택률 변화')\n",
        "plt.plot(choice)\n",
        "plt.xlabel('연도(1982~2020)')\n",
        "plt.ylabel('선택률(%)')\n",
        "plt.show\n"
      ],
      "metadata": {
        "colab": {
          "base_uri": "https://localhost:8080/",
          "height": 311
        },
        "id": "sS1OKTc_nwFc",
        "outputId": "ef4d5338-603c-482c-f7fc-b5d092c3ba9a"
      },
      "execution_count": null,
      "outputs": [
        {
          "output_type": "execute_result",
          "data": {
            "text/plain": [
              "<function matplotlib.pyplot.show(*args, **kw)>"
            ]
          },
          "metadata": {},
          "execution_count": 75
        },
        {
          "output_type": "display_data",
          "data": {
            "text/plain": [
              "<Figure size 432x288 with 1 Axes>"
            ],
            "image/png": "[encoded data removed]"
          },
          "metadata": {
            "needs_background": "light"
          }
        }
      ]
    },
    {
      "cell_type": "markdown",
      "source": [
        "# 분석 결과 공무원 연금의 일시금/연금 선택률에서 현재 압도적으로 연금 선택률이 높아졌음을 알 수 있습니다. 1999년부터 연금선택률이 67%로 전년대비 20% 증가하기 시작하여 2000년에는 급격히 높아졌습니다. IMF 이후 퇴직은 연금으로 받는 경향이 굳어진 것이 아닐까 추측합니다. "
      ],
      "metadata": {
        "id": "GOK1lL_cPF2E"
      }
    }
  ]
}